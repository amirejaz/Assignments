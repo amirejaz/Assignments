{
 "cells": [
  {
   "cell_type": "markdown",
   "metadata": {
    "collapsed": true
   },
   "source": [
    "# My Jupyter Notebook on IBM Watson Studio"
   ]
  },
  {
   "cell_type": "markdown",
   "metadata": {},
   "source": [
    "__Amir Aijaz (Data Scientist)__"
   ]
  },
  {
   "cell_type": "markdown",
   "metadata": {},
   "source": [
    "_I am interested in data science because I want to pursue Artificial intelligence further in my career so basically right now I am gaining skills in this field_"
   ]
  },
  {
   "cell_type": "markdown",
   "metadata": {},
   "source": [
    "### In my code, I will print my name 5 times."
   ]
  },
  {
   "cell_type": "code",
   "execution_count": 13,
   "metadata": {},
   "outputs": [
    {
     "name": "stdout",
     "output_type": "stream",
     "text": [
      "Amir\n",
      "Amir\n",
      "Amir\n",
      "Amir\n",
      "Amir\n"
     ]
    }
   ],
   "source": [
    "for i in range(5):\n",
    "    print(\"Amir\")"
   ]
  },
  {
   "cell_type": "markdown",
   "metadata": {},
   "source": [
    "- this is bulleted line."
   ]
  },
  {
   "cell_type": "markdown",
   "metadata": {},
   "source": [
    "_(https://www.google.com/webhp?hl=en&sa=X&ved=0ahUKEwiLt-ez5un4AhXStqQKHbgZCcYQPAgI)_."
   ]
  },
  {
   "cell_type": "markdown",
   "metadata": {},
   "source": [
    "1. Number one\n",
    "2. Number two"
   ]
  },
  {
   "cell_type": "markdown",
   "metadata": {},
   "source": [
    "<img src=\"https://img.freepik.com/premium-vector/landscape-wooden-chaise-lounge_165488-11.jpg?w=2000\" alt=\"This is a image\" title=\"Image\" />"
   ]
  }
 ],
 "metadata": {
  "kernelspec": {
   "display_name": "Python 3.9",
   "language": "python",
   "name": "python3"
  },
  "language_info": {
   "codemirror_mode": {
    "name": "ipython",
    "version": 3
   },
   "file_extension": ".py",
   "mimetype": "text/x-python",
   "name": "python",
   "nbconvert_exporter": "python",
   "pygments_lexer": "ipython3",
   "version": "3.9.12"
  }
 },
 "nbformat": 4,
 "nbformat_minor": 1
}
